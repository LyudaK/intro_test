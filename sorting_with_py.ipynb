{
 "cells": [
  {
   "cell_type": "markdown",
   "metadata": {},
   "source": [
    "### Task 2"
   ]
  },
  {
   "cell_type": "markdown",
   "metadata": {},
   "source": [
    "According to our task, we have an array of 10 elements. <br>\n",
    "<b>Initialization:</b> <br>\n",
    "Below we create our random integer array (values from 0 to 100)"
   ]
  },
  {
   "cell_type": "code",
   "execution_count": 1,
   "metadata": {},
   "outputs": [],
   "source": [
    "import numpy as np"
   ]
  },
  {
   "cell_type": "code",
   "execution_count": 2,
   "metadata": {},
   "outputs": [
    {
     "name": "stdout",
     "output_type": "stream",
     "text": [
      "[ 1 35 57 40 73 82 68 69 52  1]\n"
     ]
    }
   ],
   "source": [
    "n=10 #lenght\n",
    "np.random.seed(99)\n",
    "input_array=np.random.randint(0, 100, n)\n",
    "print(input_array)"
   ]
  },
  {
   "cell_type": "markdown",
   "metadata": {},
   "source": [
    "Let's imagine that there are only arrays of 10 elements in the world. In this turn, even BubbleSort could do the job,I guess. sorting will be done in ascending order.<br>\n",
    "<br>\n",
    "\n",
    "First, we compare the first two elements of the array given. If the first element is larger, two elements are swapped. Otherwise, leave elements as they are,move on to the next pair of elements and do the same steps until the last pair\n"
   ]
  },
  {
   "cell_type": "code",
   "execution_count": 3,
   "metadata": {},
   "outputs": [
    {
     "name": "stdout",
     "output_type": "stream",
     "text": [
      "INPUT  [ 1 35 57 40 73 82 68 69 52  1]\n",
      "OUTPUT  [ 1  1 35 40 52 57 68 69 73 82]\n"
     ]
    }
   ],
   "source": [
    "def bubble_sort(array): \n",
    "\n",
    "    for i in range(0,n-1):\n",
    "        for j in range(0,n-i-1):\n",
    "            if array[j] > array[j+1]:\n",
    "                array[j],array[j + 1] = array[j + 1], array[j]\n",
    "            #print(array)\n",
    "    return array        \n",
    "\n",
    "output_array=bubble_sort(input_array.copy()) \n",
    "print('INPUT ',input_array)\n",
    "print('OUTPUT ',output_array)\n"
   ]
  },
  {
   "cell_type": "markdown",
   "metadata": {},
   "source": [
    "In cases with an almost sorted array, \n",
    "insertion sorting performs well. below the primitive kind of insertion algorithms is displayed.This algorithm divides the list into two parts: sorted and unsorted. It iterates over the second segment and inserts the current element into the correct position of the first sorted list."
   ]
  },
  {
   "cell_type": "code",
   "execution_count": 4,
   "metadata": {
    "scrolled": true
   },
   "outputs": [
    {
     "name": "stdout",
     "output_type": "stream",
     "text": [
      "INPUT  [ 1 35 57 40 73 82 68 69 52  1]\n",
      "OUTPUT  [ 1  1 35 40 52 57 68 69 73 82]\n"
     ]
    }
   ],
   "source": [
    "def insertion_sort(array): \n",
    "    #start from 2nd element,as we consider the first element is sorted\n",
    "    for i in range(1, n):\n",
    "        j = i - 1 #position in sorted part\n",
    "        tmp_element = array[i]#element from unsorted part\n",
    "        #print('tmp from unsorted ',tmp_element)\n",
    "        while (j >= 0) and (array[j] > tmp_element):\n",
    "            #print('element from sorted ',array[j])\n",
    "            array[j + 1] = array[j]\n",
    "            j -= 1\n",
    "            #print('after finding position in sorted part ',array)\n",
    "           \n",
    "        # insert in sorted list\n",
    "        array[j + 1] = tmp_element\n",
    "        #print('position for tmp found ',array)\n",
    "    return array    \n",
    " \n",
    "output_array=insertion_sort(input_array.copy()) \n",
    "print('INPUT ',input_array)\n",
    "print('OUTPUT ',output_array)\n"
   ]
  },
  {
   "cell_type": "markdown",
   "metadata": {},
   "source": [
    "If we don’t care about the memory usage and want to optimize the time,\n",
    "we can choose <b>merge sorting</b>, which on average works better in comparison with the previous options. <br>\n",
    "<b>In short:</b> <br>\n",
    "1. We get lists of size 1 after spliting in half.\n",
    "2. Then each half is combined with the other (at the same time with sorting).\n",
    "3. We start comparing first elements of each part.For example, if one of the parts begins with a smaller value (let it be the first part), we add that to the sorted array.\n",
    "4. The we move on to the second smallest element from the first part and compare with the first smallest element in another half.\n",
    "\n",
    "\n"
   ]
  },
  {
   "cell_type": "code",
   "execution_count": 5,
   "metadata": {},
   "outputs": [
    {
     "name": "stdout",
     "output_type": "stream",
     "text": [
      "INPUT:  [ 1 35 57 40 73 82 68 69 52  1]\n",
      "OUTPUT:  [1, 1, 35, 40, 52, 57, 68, 69, 73, 82]\n"
     ]
    }
   ],
   "source": [
    "def merge_sort(array): \n",
    "    if (len(array) <= 1):\n",
    "        return array\n",
    "    mid_index = len(array) // 2\n",
    "    #print('left part ', array[:mid_index])\n",
    "    #print('right part ', array[mid_index:])\n",
    "    left = merge_sort(array[:mid_index])\n",
    "    right = merge_sort(array[mid_index:])\n",
    "    \n",
    "    #print('start merging on')\n",
    "    #print('left', left)\n",
    "    #print('right', right)\n",
    "    return merge(left, right) \n",
    "def merge(left, right):  \n",
    "    sorted_array = []\n",
    "    \n",
    "    left_idx = 0\n",
    "    right_idx = 0\n",
    "    #print('len left ',len(left))\n",
    "    #print('len right ',len(right))\n",
    "    len_left = len(left)\n",
    "    len_right = len(right)\n",
    "    for x in range(len_left + len_right):\n",
    "        if left_idx < len_left and right_idx < len_right:\n",
    "            #print('left_idx',left[left_idx])\n",
    "            #print('right_idx',right[right_idx])\n",
    "            if left[left_idx] <= right[right_idx]:\n",
    "                sorted_array.append(left[left_idx])\n",
    "                left_idx += 1\n",
    "            else:\n",
    "                sorted_array.append(right[right_idx])\n",
    "                right_idx += 1\n",
    "        elif left_idx == len_left:\n",
    "            sorted_array.append(right[right_idx])\n",
    "            right_idx += 1\n",
    "        elif right_idx == len_right:\n",
    "            sorted_array.append(left[left_idx])\n",
    "            left_idx += 1\n",
    "        #print('sorted part ',sorted_array)\n",
    "    #print('merge completed')    \n",
    "    return sorted_array\n",
    "\n",
    "output_array=merge_sort(input_array.copy())\n",
    "print('INPUT: ', input_array)\n",
    "print('OUTPUT: ',output_array) \n",
    "\n"
   ]
  },
  {
   "cell_type": "markdown",
   "metadata": {},
   "source": [
    "Moreover, there is an option to use quick sort"
   ]
  },
  {
   "cell_type": "markdown",
   "metadata": {},
   "source": [
    "In <b>Quick sorting</b>:\n",
    "1. Choose pivot element from array\n",
    "2. All elements smaller than pivot are moved to the left. All larger (or equal) elements are moved to the right.\n",
    "3. recursively sort elements around the pivot "
   ]
  },
  {
   "cell_type": "code",
   "execution_count": 6,
   "metadata": {},
   "outputs": [
    {
     "name": "stdout",
     "output_type": "stream",
     "text": [
      "INPUT:  [ 1 35 57 40 73 82 68 69 52  1]\n",
      "OUTPUT:  [1, 1, 35, 40, 52, 57, 68, 69, 73, 82]\n"
     ]
    }
   ],
   "source": [
    "def quick_sort(array):\n",
    "    if len(array):\n",
    "        pivot = array[0]\n",
    "        #pivot = array[np.random.choice(range(0, len(array)))]\n",
    "        #print(pivot)\n",
    "        less_than = [i for i in array[1:] if i < pivot] \n",
    "        #print('less_than_pivot',less_than)\n",
    "        more_than = [i for i in array[1:] if i >= pivot]\n",
    "        #print('more_than_pivot',more_than)\n",
    "        return quick_sort(less_than) + [pivot] + quick_sort(more_than)\n",
    "    else: \n",
    "        return array\n",
    "output_array=quick_sort(input_array.copy()) \n",
    "print('INPUT: ', input_array)\n",
    "print('OUTPUT: ',output_array)"
   ]
  },
  {
   "cell_type": "markdown",
   "metadata": {},
   "source": [
    "### Concluding remarks"
   ]
  },
  {
   "cell_type": "markdown",
   "metadata": {},
   "source": [
    "As the assignment does not specify which algorithm to implement, several options are presented here (just few:) ).\n",
    "To my mind, for small arrays each option is suitable.\n",
    "<br> However, if the user/consumer/customer decides to rewrite the specification and increase the size of our array to 100 000, do not recommend to use algorithms with quadratic complexity (like Bubble sort,Insertion sort).Merge sort or Quick sort might perform better.\n",
    "<br>"
   ]
  },
  {
   "cell_type": "markdown",
   "metadata": {},
   "source": [
    "<em><b>Lifehack:</b> to become more flexible it`s better to use built-in Python functions  \n",
    "because developers have already come up with solution</em>"
   ]
  },
  {
   "cell_type": "markdown",
   "metadata": {},
   "source": [
    "From the user`s point of view, i will do the following:<br> \n",
    "1. call system function\n",
    "2. or create function where i call system function)"
   ]
  },
  {
   "cell_type": "code",
   "execution_count": 7,
   "metadata": {},
   "outputs": [
    {
     "name": "stdout",
     "output_type": "stream",
     "text": [
      "INPUT:  [ 1 35 57 40 73 82 68 69 52  1]\n",
      "OUTPUT:  [ 1  1 35 40 52 57 68 69 73 82]\n"
     ]
    }
   ],
   "source": [
    "print('INPUT: ', input_array)\n",
    "input_array.sort() #default-quicksort\n",
    "print('OUTPUT: ',input_array)"
   ]
  }
 ],
 "metadata": {
  "kernelspec": {
   "display_name": "Python 3",
   "language": "python",
   "name": "python3"
  },
  "language_info": {
   "codemirror_mode": {
    "name": "ipython",
    "version": 3
   },
   "file_extension": ".py",
   "mimetype": "text/x-python",
   "name": "python",
   "nbconvert_exporter": "python",
   "pygments_lexer": "ipython3",
   "version": "3.6.4"
  }
 },
 "nbformat": 4,
 "nbformat_minor": 2
}
